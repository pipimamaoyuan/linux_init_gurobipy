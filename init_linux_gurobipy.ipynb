{
 "cells": [
  {
   "metadata": {},
   "cell_type": "markdown",
   "source": "# 从零开始在linux服务器系统中安装gurobipy",
   "id": "f1471643e296a6c2"
  },
  {
   "metadata": {},
   "cell_type": "markdown",
   "source": [
    "## 一. 配置Linux服务器中的环境\n",
    "#### 1. 安装 miniconda \n",
    "first，进入你想要安装miniconda的目录\n",
    "\n",
    "second，在终端输入：wget https://repo.anaconda.com/miniconda/Miniconda3-latest-Linux-x86_64.sh\n",
    "\n",
    "third，输入：bash Miniconda3-latest-Linux-x86_64.sh，安装脚本会显示许可证协议。按 Enter 键滚动阅读这些条款，直到到达提示“Do you accept the license terms?”的地方，然后输入 yes 接受协议。\n",
    "\n",
    "fourth，在安装过程中，你会被询问是否希望初始化 Miniconda3。输入 yes 来允许 conda init 命令自动将 conda 添加到你的 shell 启动文件中。\n",
    "\n",
    "fifth，安装完成后，输入 source ~/.bashrc 来使 conda 命令生效。\n",
    "\n",
    "sixth，输入 conda env list 来查看已安装的环境，此时应该有一个名为 base 的环境。\n",
    "\n",
    "#### 2. 创建一个新的conda环境\n",
    "输入 conda create --name gur python=3.11，创建一个名为 gur 的环境，并指定 Python 版本为 3.11。\n",
    "\n",
    "注意：这个python版本一定要指定为后续gurobi申请许可证指定的版本，否则会出现许可证不匹配的问题，所以也可以先在gurobi官网先申请许可证，然后再安装对应的python版本。"
   ],
   "id": "5b1740a09452c533"
  },
  {
   "metadata": {},
   "cell_type": "markdown",
   "source": [
    "## 二. 下载gurobi的linux版本 并 申请gurobi许可证\n",
    "#### 1. 下载gurobi的linux版本\n",
    "访问英文官方网站：https://www.gurobi.com/，点击 Get Gurobi 并选择 Gurobi Optimizer。并且选择linux系统的版本。如：gurobi12.0.0_linux64.tar.gz，并且将这个文件上传到你的远程Linux服务器中\n",
    "\n",
    "#### 2. 申请gurobi许可证\n",
    "访问英文官方网站：https://www.gurobi.com/ ，并使用你的学校邮箱注册一个账号，然后在英文网站上验证获得一个许可证。 “grbgetkey xx-xx4-xxbf-xx6-xxxxx”\n",
    "\n",
    "注意：兴庆校区的校园网不支持网络验证，创新港的校园网支持网络验证\n",
    "\n",
    "也可以通过gurobi的中国代理进行申请许可证，但是免IP地址获得许可证的次数有限制，所以最好在英文网站上IP认证获得许可证\n",
    "\n",
    "#### 3. 添加gurobi的环境变量\n",
    "方法一：  \n",
    "first, 在服务器终端输入：nano ~/.bashrc，滑轮滚动光标，将以下内容添加到末尾：  \n",
    "export GUROBI_HOME=/home/mmy/gurobi1200/linux64  \n",
    "export PATH=${PATH}:${GUROBI_HOME}/bin  \n",
    "export LD_LIBRARY_PATH=${LD_LIBRARY_PATH}:${GUROBI_HOME}/lib  \n",
    "export GRB_LICENSE_FILE=/home/mmy/gurobi1200/linux64/gurobi.lic  \n",
    "  \n",
    "保存:crtl + o  出来选项后按Enter  \n",
    "退出：ctrl + x  \n",
    "然后输入：source ~/.bashrc，使更改生效。  \n",
    "  \n",
    "方法二：  \n",
    "在pycharm中可以浏览远程主机，可以在你的linux主机中发现一个文件：.bashrc，\n",
    "然后在这个文件中添加以下内容至结尾（与方法一相同）：  \n",
    "export GUROBI_HOME=/home/mmy/gurobi1200/linux64  \n",
    "export PATH=${PATH}:${GUROBI_HOME}/bin  \n",
    "export LD_LIBRARY_PATH=${LD_LIBRARY_PATH}:${GUROBI_HOME}/lib  \n",
    "export GRB_LICENSE_FILE=/home/mmy/gurobi1200/linux64/gurobi.lic  \n",
    "并且保存。  \n",
    "之后输入source ~/.bashrc，使更改生效。  \n",
    "\n",
    "#### 4. 激活gurobi的许可证\n",
    "在终端进入gurobi的安装目录home/mmy/gurobi1200/linux64/bin，注意：这个目录要进入“bin“\n",
    "然后输入：grbgetkey xx-xx4-xxbf-xx6-xxxxx"
   ],
   "id": "dd63f5590e7e5ce5"
  },
  {
   "metadata": {},
   "cell_type": "markdown",
   "source": [
    "## 三. 让安装好的gurobi 和 建立的miniconda 虚拟环境gur 中的python 产生联系  \n",
    "这里我一直没有找到适合的方法（我没有找到gurobi bin中的setup文件），但是误打误撞成功了，所以我就记录下来，希望对大家有所帮助。  \n",
    "\n",
    "#### first，通过pycharm浏览远程主机，进入gurobi的安装目录home/mmy/gurobi1200/linux64/bin，将这个bin目录下的文件全部复制到你的miniconda虚拟环境gur中的bin目录下。\n",
    "\n",
    "注意：可能会出现文件重复的问题，我当时没有选择覆盖\n",
    "\n",
    "#### second，使用终端进入你的miniconda虚拟环境gur，并且输入：pip install gurobipy，安装gurobipy\n",
    "之后我就尝试了使用gurobipy，发现可以成功运行了"
   ],
   "id": "17e00ac5c3f08ab1"
  }
 ],
 "metadata": {
  "kernelspec": {
   "display_name": "Python 3",
   "language": "python",
   "name": "python3"
  },
  "language_info": {
   "codemirror_mode": {
    "name": "ipython",
    "version": 2
   },
   "file_extension": ".py",
   "mimetype": "text/x-python",
   "name": "python",
   "nbconvert_exporter": "python",
   "pygments_lexer": "ipython2",
   "version": "2.7.6"
  }
 },
 "nbformat": 4,
 "nbformat_minor": 5
}
